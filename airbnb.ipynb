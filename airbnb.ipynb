{
 "cells": [
  {
   "cell_type": "code",
   "execution_count": 1,
   "metadata": {
    "collapsed": true
   },
   "outputs": [],
   "source": [
    "import pandas as pd\n",
    "import numpy as np\n",
    "import matplotlib.pyplot as pltb\n",
    "import seaborn as sns\n",
    "\n",
    "pd.set_option('display.max_rows', 500)\n",
    "pd.set_option('display.max_columns', 500)\n",
    "import re"
   ]
  },
  {
   "cell_type": "code",
   "execution_count": 95,
   "metadata": {
    "collapsed": true
   },
   "outputs": [],
   "source": [
    "from surprise import SVD\n",
    "from surprise import Dataset\n",
    "from surprise.model_selection import cross_validate\n",
    "from surprise.reader import Reader"
   ]
  },
  {
   "cell_type": "code",
   "execution_count": 3,
   "metadata": {
    "collapsed": true
   },
   "outputs": [],
   "source": [
    "import warnings\n",
    "warnings.filterwarnings('ignore')"
   ]
  },
  {
   "cell_type": "code",
   "execution_count": 2,
   "metadata": {
    "collapsed": true
   },
   "outputs": [],
   "source": [
    "from IPython.display import Image, HTML\n",
    "import matplotlib.pyplot as plt\n",
    "from wordcloud import WordCloud, STOPWORDS\n",
    "from sklearn.feature_extraction.text import TfidfVectorizer\n",
    "from sklearn.metrics.pairwise import linear_kernel"
   ]
  },
  {
   "cell_type": "code",
   "execution_count": 4,
   "metadata": {
    "scrolled": true
   },
   "outputs": [
    {
     "name": "stderr",
     "output_type": "stream",
     "text": [
      "b'Skipping line 4963: expected 6 fields, saw 8\\nSkipping line 58248: expected 6 fields, saw 10\\nSkipping line 102313: expected 6 fields, saw 13\\nSkipping line 121854: expected 6 fields, saw 8\\n'\n",
      "b'Skipping line 131455: expected 6 fields, saw 10\\nSkipping line 136170: expected 6 fields, saw 8\\nSkipping line 141017: expected 6 fields, saw 8\\nSkipping line 150629: expected 6 fields, saw 8\\n'\n"
     ]
    }
   ],
   "source": [
    "calendar = pd.read_csv('calendar.csv')\n",
    "listing = pd.read_csv('listings.csv')\n",
    "reviews = pd.read_csv('reviews.csv',error_bad_lines=False)"
   ]
  },
  {
   "cell_type": "code",
   "execution_count": 96,
   "metadata": {},
   "outputs": [
    {
     "data": {
      "text/plain": [
       "{'walking distance': 1.0,\n",
       " 'great location': 0.9949178758194005,\n",
       " 'highly recommend': 0.8810488325845179,\n",
       " 'great host': 0.8610886057302791,\n",
       " 'definitely stay': 0.8048169698755248,\n",
       " 'place stay': 0.7591515062237608,\n",
       " 'everything needed': 0.6492597775649996,\n",
       " 'great place': 0.6209766516903586,\n",
       " 'clean comfortable': 0.533696692936584,\n",
       " 'definitely recommend': 0.4926714296236282,\n",
       " 'Capitol Hill': 0.4805185239743684,\n",
       " 'stay Seattle': 0.4668925388524711,\n",
       " 'downtown Seattle': 0.4610002209619209,\n",
       " 'within walking': 0.45540251896589823,\n",
       " 'enjoyed stay': 0.4504677027325624,\n",
       " 'great stay': 0.42063784341165206,\n",
       " 'gave us': 0.41577668115194816,\n",
       " 'will definitely': 0.4028872357663696,\n",
       " 'us feel': 0.3997201149001989,\n",
       " 'location great': 0.3865360536200928,\n",
       " 'recommend place': 0.3663548648449584,\n",
       " 'place great': 0.362377550268837,\n",
       " 'made us': 0.35957869927082564,\n",
       " 'come back': 0.343743094939972,\n",
       " 'really enjoyed': 0.342564631361862,\n",
       " 'next time': 0.3422700154673345,\n",
       " 'recommend staying': 0.34153347573101567,\n",
       " 'great time': 0.33372615452603666,\n",
       " 'bed comfortable': 0.3324740369742948,\n",
       " 'great experience': 0.32834941445090965,\n",
       " 'place clean': 0.31619650880164984,\n",
       " 'coffee shop': 0.3144288134344848,\n",
       " 'Space Needle': 0.31192457833100096,\n",
       " 'apartment clean': 0.31126169256831404,\n",
       " 'visit Seattle': 0.3085364955439346,\n",
       " 'time Seattle': 0.3055166826250276,\n",
       " 'easy access': 0.30441187302054945,\n",
       " 'Pike Place': 0.30411725712602194,\n",
       " 'Airbnb experience': 0.3036016793105988,\n",
       " 'everything need': 0.3029387935479119,\n",
       " 'wonderful host': 0.3026441776533844,\n",
       " 'location perfect': 0.2945422405538779,\n",
       " 'bus stop': 0.2869558812697945,\n",
       " 'feel welcome': 0.2835677984827281,\n",
       " 'comfortable bed': 0.26390218752301686,\n",
       " 'clean well': 0.25955660307873607,\n",
       " 'first time': 0.2582308315533623,\n",
       " 'really nice': 0.2562421742653016,\n",
       " 'stay great': 0.2490977388230095,\n",
       " 'first Airbnb': 0.24210061132798114,\n",
       " 'great neighborhood': 0.24165868748618988,\n",
       " 'Highly recommended': 0.24084849377623924,\n",
       " 'room clean': 0.23878618251454667,\n",
       " 'make sure': 0.23525079178021654,\n",
       " 'exactly described': 0.2351034838329528,\n",
       " 'living room': 0.2344405980702659,\n",
       " 'trip Seattle': 0.23318848051852398,\n",
       " 'light rail': 0.2323782868085733,\n",
       " 'perfect location': 0.23156809309862267,\n",
       " 'minute walk': 0.23134713117772704,\n",
       " 'made sure': 0.23119982323046329,\n",
       " 'short walk': 0.22832731825882005,\n",
       " 'quiet neighborhood': 0.22471827355085808,\n",
       " 'apartment great': 0.22457096560359432,\n",
       " 'street parking': 0.2239080798409074,\n",
       " 'grocery store': 0.22221403844737422,\n",
       " 'visiting Seattle': 0.22125653679015983,\n",
       " 'great restaurant': 0.21300729174338956,\n",
       " 'feel home': 0.20902997716726818,\n",
       " 'restaurants bar': 0.20799882153642188,\n",
       " 'guest': 0.20630478014288872,\n",
       " 'Place Market': 0.2053472784856743,\n",
       " 'public transportation': 0.20453708477572366,\n",
       " 'awesome': 0.2017382337777123,\n",
       " 'found': 0.19650880164984902,\n",
       " 'even though': 0.19208956323193635,\n",
       " 'unit': 0.19172129336377697,\n",
       " 'back Seattle': 0.19150033144288134,\n",
       " 'blocks away': 0.19024821389113944,\n",
       " 'Seattle great': 0.18862782647123813,\n",
       " 'wonderful stay': 0.18619724534138618,\n",
       " 'made feel': 0.18354570229063857,\n",
       " 'well equipped': 0.18214627679163292,\n",
       " 'one night': 0.1817780069234735,\n",
       " 'conveniently located': 0.18015761950357223,\n",
       " 'house clean': 0.17912646387272593,\n",
       " 'shops restaurant': 0.17743242247919275,\n",
       " 'well stocked': 0.17514914929660455,\n",
       " 'got': 0.17492818737570892,\n",
       " 'great view': 0.1733814539294395,\n",
       " 'recommend anyone': 0.1727185681667526,\n",
       " 'place perfect': 0.17087721882595566,\n",
       " 'close downtown': 0.17087721882595566,\n",
       " 'stay next': 0.16962510127421374,\n",
       " 'neighborhood quiet': 0.16925683140605435,\n",
       " 'plu': 0.16771009795978492,\n",
       " 'places eat': 0.16741548206525741,\n",
       " 'Queen Anne': 0.1671208661707299,\n",
       " 'town': 0.16645798040804302,\n",
       " 'Although': 0.1612285482801797,\n",
       " 'excellent host': 0.16100758635928408,\n",
       " 'perfect place': 0.1606393164911247,\n",
       " 'bars restaurant': 0.1563673860204758,\n",
       " 'upon arrival': 0.15614642409958018,\n",
       " 'well appointed': 0.15585180820505265,\n",
       " 'friend': 0.1554098843632614,\n",
       " 'friendly helpful': 0.15518892244236576,\n",
       " 'left us': 0.15511526846873389,\n",
       " 'location close': 0.154452382706047,\n",
       " 'nice clean': 0.15393680489062386,\n",
       " 'let us': 0.1537158429697282,\n",
       " 'quick respond': 0.15334757310156882,\n",
       " 'stay Thank': 0.15268468733888194,\n",
       " 'house great': 0.15261103336525006,\n",
       " 'washer dryer': 0.1521691095234588,\n",
       " 'comfortable clean': 0.15202180157619505,\n",
       " 'even': 0.15143256978714,\n",
       " 'gracious host': 0.1511379538926125,\n",
       " 'clean quiet': 0.15025410620903,\n",
       " 'last minute': 0.15025410620903,\n",
       " 'time staying': 0.14937025852544744,\n",
       " 'sure everything': 0.14929660455181556,\n",
       " 'Green Lake': 0.1488546807100243,\n",
       " 'felt home': 0.14811814097370554,\n",
       " 'nice place': 0.14635044560654048,\n",
       " 'neighborhood great': 0.14568755984385356,\n",
       " 'clean cozy': 0.14473005818663917,\n",
       " 'bus line': 0.14325697871400161,\n",
       " 'easy find': 0.1429623628194741,\n",
       " 'one': 0.14222582308315534,\n",
       " 'right home': 0.1420785151358916,\n",
       " 'accommodation': 0.14178389924136406,\n",
       " 'super clean': 0.14082639758414967,\n",
       " 'easy walk': 0.1406790896368859,\n",
       " 'easy communicate': 0.14045812771599028,\n",
       " 'close everything': 0.14031081976872653,\n",
       " 'NEG_in NEG_the': 0.13699639095529204,\n",
       " 'West Seattle': 0.13633350519260515,\n",
       " 'Overall great': 0.1357442734035501,\n",
       " 'away home': 0.1351550416144951,\n",
       " 'convenient location': 0.13301907637917065,\n",
       " 'think': 0.13235619061648377,\n",
       " 'check check': 0.1308831111438462,\n",
       " 'comfy bed': 0.1305884952493187,\n",
       " 'apartment perfect': 0.1305884952493187,\n",
       " 'apt': 0.13036753332842307,\n",
       " 'good location': 0.13014657140752744,\n",
       " 'centrally located': 0.12963099359210428,\n",
       " 'Everything clean': 0.1286734919348899,\n",
       " 'especially': 0.12845253001399426,\n",
       " 'Seattle Thank': 0.1240332915960816,\n",
       " 'nice quiet': 0.12381232967518598,\n",
       " 'home away': 0.12204463430802091,\n",
       " 'Seattle area': 0.1201296309935921,\n",
       " 'though': 0.12005597701996022,\n",
       " 'people': 0.11983501509906459,\n",
       " 'us great': 0.11961405317816896,\n",
       " 'love stay': 0.11924578331000958,\n",
       " 'room comfortable': 0.11873020549458643,\n",
       " 'arrival automated': 0.11585770052294321,\n",
       " 'automated posting': 0.11585770052294321,\n",
       " 'check time': 0.1155630846284157,\n",
       " 'clean spacious': 0.11541577668115195,\n",
       " 'appreciated': 0.11519481476025632,\n",
       " 'amazing': 0.11445827502393754,\n",
       " 'wonderful time': 0.11416365912941003,\n",
       " 'used': 0.11401635118214627,\n",
       " 'loved staying': 0.1139426972085144,\n",
       " 'really great': 0.11350077336672314,\n",
       " 'still': 0.11254327170950873,\n",
       " 'property': 0.1123223097886131,\n",
       " 'provided us': 0.1123223097886131,\n",
       " 'comfortable stay': 0.11173307799955808,\n",
       " 'fun': 0.11084923031597554,\n",
       " 'amazing host': 0.11084923031597554,\n",
       " 'location convenient': 0.10996538263239301,\n",
       " 'met us': 0.10974442071149738,\n",
       " 'work': 0.10959711276423363,\n",
       " 'etc': 0.10922884289607425,\n",
       " 'around corner': 0.10893422700154673,\n",
       " 'beautiful home': 0.10834499521249172,\n",
       " 'love': 0.10827134123885984,\n",
       " 'able walk': 0.10819768726522797,\n",
       " 'sweet': 0.10760845547617294,\n",
       " 'host made': 0.10746114752890919,\n",
       " 'place anyone': 0.10724018560801356,\n",
       " 'Thank much': 0.10709287766074979,\n",
       " 'wonderful experience': 0.10701922368711791,\n",
       " 'anyone looking': 0.10679826176622229,\n",
       " 'said': 0.10628268395079915,\n",
       " 'first experience': 0.10628268395079915,\n",
       " 'stay apartment': 0.10628268395079915,\n",
       " 'fantastic host': 0.10620902997716727,\n",
       " 'block away': 0.10606172202990351,\n",
       " 'couple': 0.1054724902408485,\n",
       " 'go back': 0.1054724902408485,\n",
       " 'felt safe': 0.10517787434632099,\n",
       " 'walk away': 0.10444133461000221,\n",
       " 'days arrival': 0.10429402666273846,\n",
       " 'condo': 0.10407306474184282}"
      ]
     },
     "execution_count": 96,
     "metadata": {},
     "output_type": "execute_result"
    }
   ],
   "source": [
    "description_corpus.words_"
   ]
  },
  {
   "cell_type": "markdown",
   "metadata": {},
   "source": [
    "#### Lets analyse the reviews"
   ]
  },
  {
   "cell_type": "code",
   "execution_count": 4,
   "metadata": {
    "collapsed": true
   },
   "outputs": [],
   "source": [
    "reviews['comments'] = reviews['comments'].astype('str')"
   ]
  },
  {
   "cell_type": "code",
   "execution_count": 49,
   "metadata": {},
   "outputs": [
    {
     "data": {
      "text/plain": [
       "<matplotlib.axes._subplots.AxesSubplot at 0x7fdb284a6518>"
      ]
     },
     "execution_count": 49,
     "metadata": {},
     "output_type": "execute_result"
    },
    {
     "data": {
      "image/png": "[encoded data removed]",
      "text/plain": [
       "<Figure size 576x396 with 1 Axes>"
      ]
     },
     "metadata": {},
     "output_type": "display_data"
    }
   ],
   "source": [
    "bins = [0, 20, 40, 60,80,90,100]\n",
    "labels = [\"0\", \"20\", \"40\", \"60\",\"80\",\"90+\"]\n",
    "rv_df['score_bin'] = pd.cut(rv_df['review_scores_rating'], bins=bins, labels=labels)\n",
    "\n",
    "sns.countplot(x=\"score_bin\", data=rv_df)"
   ]
  },
  {
   "cell_type": "code",
   "execution_count": 36,
   "metadata": {
    "collapsed": true
   },
   "outputs": [],
   "source": [
    "rv_df2 = rv_df.groupby(['number_of_reviews', 'review_scores_rating'])['id'].agg('sum')\n",
    "rv_df2 = pd.DataFrame(rv_df2) "
   ]
  },
  {
   "cell_type": "markdown",
   "metadata": {},
   "source": [
    "#### handling negative sentiments"
   ]
  },
  {
   "cell_type": "code",
   "execution_count": 86,
   "metadata": {
    "collapsed": true
   },
   "outputs": [],
   "source": [
    "def negate(string):\n",
    "    return re.sub(r'\\b(?:not|never|no)\\b[\\w\\s]+[^\\w\\s]', \n",
    "       lambda match: re.sub(r'(\\s+)(\\w+)', r'\\1NEG_\\2', match.group(0)), \n",
    "       string,\n",
    "       flags=re.IGNORECASE)"
   ]
  },
  {
   "cell_type": "code",
   "execution_count": 88,
   "metadata": {
    "collapsed": true
   },
   "outputs": [],
   "source": [
    "reviews['comments'] = reviews['comments'].apply(negate)"
   ]
  },
  {
   "cell_type": "code",
   "execution_count": 89,
   "metadata": {
    "collapsed": true
   },
   "outputs": [],
   "source": [
    "description_corpus = ' '.join(reviews['comments'])"
   ]
  },
  {
   "cell_type": "markdown",
   "metadata": {},
   "source": [
    "##### generate word cloud to see frequent words"
   ]
  },
  {
   "cell_type": "code",
   "execution_count": 90,
   "metadata": {},
   "outputs": [
    {
     "data": {
      "image/png": "[encoded data removed]",
      "text/plain": [
       "<Figure size 1152x576 with 1 Axes>"
      ]
     },
     "metadata": {},
     "output_type": "display_data"
    }
   ],
   "source": [
    "description_corpus = WordCloud(stopwords = STOPWORDS, background_color = 'white', height = 2000, width = 4000).generate(description_corpus)\n",
    "plt.figure(figsize = (16,8))\n",
    "plt.imshow(description_corpus)\n",
    "plt.axis('off')\n",
    "plt.show()"
   ]
  },
  {
   "cell_type": "code",
   "execution_count": 96,
   "metadata": {},
   "outputs": [
    {
     "data": {
      "text/plain": [
       "{'walking distance': 1.0,\n",
       " 'great location': 0.9949178758194005,\n",
       " 'highly recommend': 0.8810488325845179,\n",
       " 'great host': 0.8610886057302791,\n",
       " 'definitely stay': 0.8048169698755248,\n",
       " 'place stay': 0.7591515062237608,\n",
       " 'everything needed': 0.6492597775649996,\n",
       " 'great place': 0.6209766516903586,\n",
       " 'clean comfortable': 0.533696692936584,\n",
       " 'definitely recommend': 0.4926714296236282,\n",
       " 'Capitol Hill': 0.4805185239743684,\n",
       " 'stay Seattle': 0.4668925388524711,\n",
       " 'downtown Seattle': 0.4610002209619209,\n",
       " 'within walking': 0.45540251896589823,\n",
       " 'enjoyed stay': 0.4504677027325624,\n",
       " 'great stay': 0.42063784341165206,\n",
       " 'gave us': 0.41577668115194816,\n",
       " 'will definitely': 0.4028872357663696,\n",
       " 'us feel': 0.3997201149001989,\n",
       " 'location great': 0.3865360536200928,\n",
       " 'recommend place': 0.3663548648449584,\n",
       " 'place great': 0.362377550268837,\n",
       " 'made us': 0.35957869927082564,\n",
       " 'come back': 0.343743094939972,\n",
       " 'really enjoyed': 0.342564631361862,\n",
       " 'next time': 0.3422700154673345,\n",
       " 'recommend staying': 0.34153347573101567,\n",
       " 'great time': 0.33372615452603666,\n",
       " 'bed comfortable': 0.3324740369742948,\n",
       " 'great experience': 0.32834941445090965,\n",
       " 'place clean': 0.31619650880164984,\n",
       " 'coffee shop': 0.3144288134344848,\n",
       " 'Space Needle': 0.31192457833100096,\n",
       " 'apartment clean': 0.31126169256831404,\n",
       " 'visit Seattle': 0.3085364955439346,\n",
       " 'time Seattle': 0.3055166826250276,\n",
       " 'easy access': 0.30441187302054945,\n",
       " 'Pike Place': 0.30411725712602194,\n",
       " 'Airbnb experience': 0.3036016793105988,\n",
       " 'everything need': 0.3029387935479119,\n",
       " 'wonderful host': 0.3026441776533844,\n",
       " 'location perfect': 0.2945422405538779,\n",
       " 'bus stop': 0.2869558812697945,\n",
       " 'feel welcome': 0.2835677984827281,\n",
       " 'comfortable bed': 0.26390218752301686,\n",
       " 'clean well': 0.25955660307873607,\n",
       " 'first time': 0.2582308315533623,\n",
       " 'really nice': 0.2562421742653016,\n",
       " 'stay great': 0.2490977388230095,\n",
       " 'first Airbnb': 0.24210061132798114,\n",
       " 'great neighborhood': 0.24165868748618988,\n",
       " 'Highly recommended': 0.24084849377623924,\n",
       " 'room clean': 0.23878618251454667,\n",
       " 'make sure': 0.23525079178021654,\n",
       " 'exactly described': 0.2351034838329528,\n",
       " 'living room': 0.2344405980702659,\n",
       " 'trip Seattle': 0.23318848051852398,\n",
       " 'light rail': 0.2323782868085733,\n",
       " 'perfect location': 0.23156809309862267,\n",
       " 'minute walk': 0.23134713117772704,\n",
       " 'made sure': 0.23119982323046329,\n",
       " 'short walk': 0.22832731825882005,\n",
       " 'quiet neighborhood': 0.22471827355085808,\n",
       " 'apartment great': 0.22457096560359432,\n",
       " 'street parking': 0.2239080798409074,\n",
       " 'grocery store': 0.22221403844737422,\n",
       " 'visiting Seattle': 0.22125653679015983,\n",
       " 'great restaurant': 0.21300729174338956,\n",
       " 'feel home': 0.20902997716726818,\n",
       " 'restaurants bar': 0.20799882153642188,\n",
       " 'guest': 0.20630478014288872,\n",
       " 'Place Market': 0.2053472784856743,\n",
       " 'public transportation': 0.20453708477572366,\n",
       " 'awesome': 0.2017382337777123,\n",
       " 'found': 0.19650880164984902,\n",
       " 'even though': 0.19208956323193635,\n",
       " 'unit': 0.19172129336377697,\n",
       " 'back Seattle': 0.19150033144288134,\n",
       " 'blocks away': 0.19024821389113944,\n",
       " 'Seattle great': 0.18862782647123813,\n",
       " 'wonderful stay': 0.18619724534138618,\n",
       " 'made feel': 0.18354570229063857,\n",
       " 'well equipped': 0.18214627679163292,\n",
       " 'one night': 0.1817780069234735,\n",
       " 'conveniently located': 0.18015761950357223,\n",
       " 'house clean': 0.17912646387272593,\n",
       " 'shops restaurant': 0.17743242247919275,\n",
       " 'well stocked': 0.17514914929660455,\n",
       " 'got': 0.17492818737570892,\n",
       " 'great view': 0.1733814539294395,\n",
       " 'recommend anyone': 0.1727185681667526,\n",
       " 'place perfect': 0.17087721882595566,\n",
       " 'close downtown': 0.17087721882595566,\n",
       " 'stay next': 0.16962510127421374,\n",
       " 'neighborhood quiet': 0.16925683140605435,\n",
       " 'plu': 0.16771009795978492,\n",
       " 'places eat': 0.16741548206525741,\n",
       " 'Queen Anne': 0.1671208661707299,\n",
       " 'town': 0.16645798040804302,\n",
       " 'Although': 0.1612285482801797,\n",
       " 'excellent host': 0.16100758635928408,\n",
       " 'perfect place': 0.1606393164911247,\n",
       " 'bars restaurant': 0.1563673860204758,\n",
       " 'upon arrival': 0.15614642409958018,\n",
       " 'well appointed': 0.15585180820505265,\n",
       " 'friend': 0.1554098843632614,\n",
       " 'friendly helpful': 0.15518892244236576,\n",
       " 'left us': 0.15511526846873389,\n",
       " 'location close': 0.154452382706047,\n",
       " 'nice clean': 0.15393680489062386,\n",
       " 'let us': 0.1537158429697282,\n",
       " 'quick respond': 0.15334757310156882,\n",
       " 'stay Thank': 0.15268468733888194,\n",
       " 'house great': 0.15261103336525006,\n",
       " 'washer dryer': 0.1521691095234588,\n",
       " 'comfortable clean': 0.15202180157619505,\n",
       " 'even': 0.15143256978714,\n",
       " 'gracious host': 0.1511379538926125,\n",
       " 'clean quiet': 0.15025410620903,\n",
       " 'last minute': 0.15025410620903,\n",
       " 'time staying': 0.14937025852544744,\n",
       " 'sure everything': 0.14929660455181556,\n",
       " 'Green Lake': 0.1488546807100243,\n",
       " 'felt home': 0.14811814097370554,\n",
       " 'nice place': 0.14635044560654048,\n",
       " 'neighborhood great': 0.14568755984385356,\n",
       " 'clean cozy': 0.14473005818663917,\n",
       " 'bus line': 0.14325697871400161,\n",
       " 'easy find': 0.1429623628194741,\n",
       " 'one': 0.14222582308315534,\n",
       " 'right home': 0.1420785151358916,\n",
       " 'accommodation': 0.14178389924136406,\n",
       " 'super clean': 0.14082639758414967,\n",
       " 'easy walk': 0.1406790896368859,\n",
       " 'easy communicate': 0.14045812771599028,\n",
       " 'close everything': 0.14031081976872653,\n",
       " 'NEG_in NEG_the': 0.13699639095529204,\n",
       " 'West Seattle': 0.13633350519260515,\n",
       " 'Overall great': 0.1357442734035501,\n",
       " 'away home': 0.1351550416144951,\n",
       " 'convenient location': 0.13301907637917065,\n",
       " 'think': 0.13235619061648377,\n",
       " 'check check': 0.1308831111438462,\n",
       " 'comfy bed': 0.1305884952493187,\n",
       " 'apartment perfect': 0.1305884952493187,\n",
       " 'apt': 0.13036753332842307,\n",
       " 'good location': 0.13014657140752744,\n",
       " 'centrally located': 0.12963099359210428,\n",
       " 'Everything clean': 0.1286734919348899,\n",
       " 'especially': 0.12845253001399426,\n",
       " 'Seattle Thank': 0.1240332915960816,\n",
       " 'nice quiet': 0.12381232967518598,\n",
       " 'home away': 0.12204463430802091,\n",
       " 'Seattle area': 0.1201296309935921,\n",
       " 'though': 0.12005597701996022,\n",
       " 'people': 0.11983501509906459,\n",
       " 'us great': 0.11961405317816896,\n",
       " 'love stay': 0.11924578331000958,\n",
       " 'room comfortable': 0.11873020549458643,\n",
       " 'arrival automated': 0.11585770052294321,\n",
       " 'automated posting': 0.11585770052294321,\n",
       " 'check time': 0.1155630846284157,\n",
       " 'clean spacious': 0.11541577668115195,\n",
       " 'appreciated': 0.11519481476025632,\n",
       " 'amazing': 0.11445827502393754,\n",
       " 'wonderful time': 0.11416365912941003,\n",
       " 'used': 0.11401635118214627,\n",
       " 'loved staying': 0.1139426972085144,\n",
       " 'really great': 0.11350077336672314,\n",
       " 'still': 0.11254327170950873,\n",
       " 'property': 0.1123223097886131,\n",
       " 'provided us': 0.1123223097886131,\n",
       " 'comfortable stay': 0.11173307799955808,\n",
       " 'fun': 0.11084923031597554,\n",
       " 'amazing host': 0.11084923031597554,\n",
       " 'location convenient': 0.10996538263239301,\n",
       " 'met us': 0.10974442071149738,\n",
       " 'work': 0.10959711276423363,\n",
       " 'etc': 0.10922884289607425,\n",
       " 'around corner': 0.10893422700154673,\n",
       " 'beautiful home': 0.10834499521249172,\n",
       " 'love': 0.10827134123885984,\n",
       " 'able walk': 0.10819768726522797,\n",
       " 'sweet': 0.10760845547617294,\n",
       " 'host made': 0.10746114752890919,\n",
       " 'place anyone': 0.10724018560801356,\n",
       " 'Thank much': 0.10709287766074979,\n",
       " 'wonderful experience': 0.10701922368711791,\n",
       " 'anyone looking': 0.10679826176622229,\n",
       " 'said': 0.10628268395079915,\n",
       " 'first experience': 0.10628268395079915,\n",
       " 'stay apartment': 0.10628268395079915,\n",
       " 'fantastic host': 0.10620902997716727,\n",
       " 'block away': 0.10606172202990351,\n",
       " 'couple': 0.1054724902408485,\n",
       " 'go back': 0.1054724902408485,\n",
       " 'felt safe': 0.10517787434632099,\n",
       " 'walk away': 0.10444133461000221,\n",
       " 'days arrival': 0.10429402666273846,\n",
       " 'condo': 0.10407306474184282}"
      ]
     },
     "execution_count": 96,
     "metadata": {},
     "output_type": "execute_result"
    }
   ],
   "source": [
    "description_corpus.words_"
   ]
  },
  {
   "cell_type": "markdown",
   "metadata": {},
   "source": [
    "##### This gives us various genres: = ['walking','recommend','location',\n",
    "#####          'bus stop','easy access',\n",
    "#####          'great neighborhood','public transportation','centrally located','location convenient','walk']"
   ]
  },
  {
   "cell_type": "code",
   "execution_count": 5,
   "metadata": {
    "collapsed": true
   },
   "outputs": [],
   "source": [
    "reviews['walking_distance'] = pd.np.where(reviews.comments.str.contains('|'.join(['walking',\n",
    "                    'walk'])),1,0)"
   ]
  },
  {
   "cell_type": "code",
   "execution_count": 6,
   "metadata": {
    "collapsed": true
   },
   "outputs": [],
   "source": [
    "reviews['is_recommend'] = pd.np.where(reviews.comments.str.contains(\"recommend\"),1,0)\n",
    "reviews['is_clean'] = pd.np.where(reviews.comments.str.contains(\"clean\"),1,0)\n",
    "reviews['near_coffee'] = pd.np.where(reviews.comments.str.contains(\"coffee\"),1,0)"
   ]
  },
  {
   "cell_type": "code",
   "execution_count": 7,
   "metadata": {
    "collapsed": true
   },
   "outputs": [],
   "source": [
    "reviews['transportation'] = pd.np.where(reviews.comments.str.contains('|'.join(['bus stop',\n",
    "                    'public transportation'])),1,0)\n",
    "reviews['convenient_location'] = pd.np.where(reviews.comments.str.contains('|'.join(['centrally located',\n",
    "                                                                                     'location'])),1,0)"
   ]
  },
  {
   "cell_type": "markdown",
   "metadata": {},
   "source": [
    "####  Since the review score rating is at a aggregated level for each host,we can directly map to customer level"
   ]
  },
  {
   "cell_type": "code",
   "execution_count": 8,
   "metadata": {
    "collapsed": true
   },
   "outputs": [],
   "source": [
    "reviews['total_score'] = reviews[['walking_distance', 'is_recommend', 'transportation',\n",
    "       'convenient_location', 'is_clean', 'near_coffee']].sum(axis=1) ## create an aggregated score"
   ]
  },
  {
   "cell_type": "code",
   "execution_count": 9,
   "metadata": {},
   "outputs": [
    {
     "data": {
      "text/plain": [
       "array([1, 2, 0, 3, 4, 5, 6])"
      ]
     },
     "execution_count": 9,
     "metadata": {},
     "output_type": "execute_result"
    }
   ],
   "source": [
    "reviews['total_score'].unique()"
   ]
  },
  {
   "cell_type": "code",
   "execution_count": 10,
   "metadata": {
    "collapsed": true
   },
   "outputs": [],
   "source": [
    "df = reviews[['total_score','reviewer_id','id']]"
   ]
  },
  {
   "cell_type": "code",
   "execution_count": 11,
   "metadata": {
    "scrolled": true
   },
   "outputs": [],
   "source": [
    "df['id'] = df['id'].apply(str)"
   ]
  },
  {
   "cell_type": "markdown",
   "metadata": {},
   "source": [
    "##### Lets try simple matrix decomposition technique to see if we can use the scores we created for recommendation for similar user"
   ]
  },
  {
   "cell_type": "code",
   "execution_count": 96,
   "metadata": {
    "collapsed": true
   },
   "outputs": [],
   "source": [
    "algo = SVD()\n",
    "reader = Reader(rating_scale=(0, 6))"
   ]
  },
  {
   "cell_type": "code",
   "execution_count": 102,
   "metadata": {
    "collapsed": true
   },
   "outputs": [],
   "source": [
    "data = Dataset.load_from_df(df[['reviewer_id', 'id', 'total_score']], reader)"
   ]
  },
  {
   "cell_type": "code",
   "execution_count": 103,
   "metadata": {
    "scrolled": true
   },
   "outputs": [
    {
     "name": "stdout",
     "output_type": "stream",
     "text": [
      "Evaluating RMSE, MAE of algorithm SVD on 5 split(s).\n",
      "\n",
      "                  Fold 1  Fold 2  Fold 3  Fold 4  Fold 5  Mean    Std     \n",
      "RMSE (testset)    0.8089  0.8082  0.8109  0.8086  0.8166  0.8106  0.0031  \n",
      "MAE (testset)     0.6460  0.6460  0.6470  0.6466  0.6504  0.6472  0.0016  \n",
      "Fit time          9.98    10.00   9.99    10.07   9.95    9.99    0.04    \n",
      "Test time         0.47    0.46    0.36    0.47    0.36    0.42    0.05    \n"
     ]
    },
    {
     "data": {
      "text/plain": [
       "{'test_rmse': array([0.80887142, 0.80817568, 0.81088286, 0.80864309, 0.81664757]),\n",
       " 'test_mae': array([0.64604659, 0.64601306, 0.64701309, 0.64663473, 0.65043961]),\n",
       " 'fit_time': (9.975445747375488,\n",
       "  9.996058225631714,\n",
       "  9.987594842910767,\n",
       "  10.065228462219238,\n",
       "  9.946487665176392),\n",
       " 'test_time': (0.4723048210144043,\n",
       "  0.46111559867858887,\n",
       "  0.35588741302490234,\n",
       "  0.46793675422668457,\n",
       "  0.3601531982421875)}"
      ]
     },
     "execution_count": 103,
     "metadata": {},
     "output_type": "execute_result"
    }
   ],
   "source": [
    "cross_validate(algo, data, measures=['RMSE', 'MAE'], cv=5, verbose=True)"
   ]
  },
  {
   "cell_type": "markdown",
   "metadata": {},
   "source": [
    "#### Note that the RMSE is low and we can use this model to recommend listings to users who have similar interest. The model can be further improved by transforming all text to vectors(example :Glove) and create features"
   ]
  },
  {
   "cell_type": "markdown",
   "metadata": {},
   "source": [
    "## Factors influencing price"
   ]
  },
  {
   "cell_type": "markdown",
   "metadata": {},
   "source": [
    "### Lets work on some features for Host data & analyse what factors are involved for the price of a listing. This will enable us to advise the host who overcharge given the services and vice-versa"
   ]
  },
  {
   "cell_type": "markdown",
   "metadata": {},
   "source": [
    "#### Data Cleansing & Features engineering "
   ]
  },
  {
   "cell_type": "code",
   "execution_count": 14,
   "metadata": {
    "collapsed": true
   },
   "outputs": [],
   "source": [
    "listing['id'] = listing['id'].apply(str)"
   ]
  },
  {
   "cell_type": "code",
   "execution_count": 46,
   "metadata": {
    "collapsed": true
   },
   "outputs": [],
   "source": [
    "\n",
    "#creating a dictionary of each amenities and the count value\n",
    "from collections import Counter\n",
    "amenities_tmp_list=[]\n",
    "for i in listing.amenities.tolist():\n",
    "    tmp=i.replace('\\\"','')\n",
    "    tmp=tmp.replace('{','')\n",
    "    tmp=tmp.replace('}','')\n",
    "    amenities_tmp_list.append(tmp.split(','))\n",
    "amenities_list = []\n",
    "for i in amenities_tmp_list:\n",
    "    for j in i:\n",
    "        amenities_list.append(j)\n",
    "amenities_count = Counter(amenities_list)\n",
    "amenities_count_dict = dict(amenities_count)"
   ]
  },
  {
   "cell_type": "code",
   "execution_count": 62,
   "metadata": {},
   "outputs": [
    {
     "data": {
      "text/html": [
       "<div>\n",
       "<style scoped>\n",
       "    .dataframe tbody tr th:only-of-type {\n",
       "        vertical-align: middle;\n",
       "    }\n",
       "\n",
       "    .dataframe tbody tr th {\n",
       "        vertical-align: top;\n",
       "    }\n",
       "\n",
       "    .dataframe thead th {\n",
       "        text-align: right;\n",
       "    }\n",
       "</style>\n",
       "<table border=\"1\" class=\"dataframe\">\n",
       "  <thead>\n",
       "    <tr style=\"text-align: right;\">\n",
       "      <th></th>\n",
       "      <th>amenities_available</th>\n",
       "      <th>num_amenities</th>\n",
       "    </tr>\n",
       "  </thead>\n",
       "  <tbody>\n",
       "    <tr>\n",
       "      <th>3</th>\n",
       "      <td>Wireless Internet</td>\n",
       "      <td>3667.0</td>\n",
       "    </tr>\n",
       "    <tr>\n",
       "      <th>6</th>\n",
       "      <td>Heating</td>\n",
       "      <td>3627.0</td>\n",
       "    </tr>\n",
       "    <tr>\n",
       "      <th>5</th>\n",
       "      <td>Kitchen</td>\n",
       "      <td>3423.0</td>\n",
       "    </tr>\n",
       "    <tr>\n",
       "      <th>12</th>\n",
       "      <td>Smoke Detector</td>\n",
       "      <td>3281.0</td>\n",
       "    </tr>\n",
       "    <tr>\n",
       "      <th>17</th>\n",
       "      <td>Essentials</td>\n",
       "      <td>3237.0</td>\n",
       "    </tr>\n",
       "    <tr>\n",
       "      <th>9</th>\n",
       "      <td>Dryer</td>\n",
       "      <td>2997.0</td>\n",
       "    </tr>\n",
       "    <tr>\n",
       "      <th>8</th>\n",
       "      <td>Washer</td>\n",
       "      <td>2992.0</td>\n",
       "    </tr>\n",
       "    <tr>\n",
       "      <th>2</th>\n",
       "      <td>Internet</td>\n",
       "      <td>2811.0</td>\n",
       "    </tr>\n",
       "    <tr>\n",
       "      <th>24</th>\n",
       "      <td>Shampoo</td>\n",
       "      <td>2670.0</td>\n",
       "    </tr>\n",
       "    <tr>\n",
       "      <th>0</th>\n",
       "      <td>TV</td>\n",
       "      <td>2574.0</td>\n",
       "    </tr>\n",
       "  </tbody>\n",
       "</table>\n",
       "</div>"
      ],
      "text/plain": [
       "   amenities_available  num_amenities\n",
       "3    Wireless Internet         3667.0\n",
       "6              Heating         3627.0\n",
       "5              Kitchen         3423.0\n",
       "12      Smoke Detector         3281.0\n",
       "17          Essentials         3237.0\n",
       "9                Dryer         2997.0\n",
       "8               Washer         2992.0\n",
       "2             Internet         2811.0\n",
       "24             Shampoo         2670.0\n",
       "0                   TV         2574.0"
      ]
     },
     "execution_count": 62,
     "metadata": {},
     "output_type": "execute_result"
    }
   ],
   "source": [
    "\n",
    "#creating a dataframe with amenities and the number of houses providing the amenities\n",
    "count_dict = {'amenities_available': list(amenities_count_dict.keys()), 'num_amenities': list(amenities_count_dict.values())}\n",
    "amenities_count_df = pd.DataFrame.from_dict(count_dict)\n",
    "amenities_count_df[amenities_count_df['amenities_available'] == ''] = np.nan\n",
    "amenities_count_df.sort_values(by = 'num_amenities', ascending = False,inplace=True)\n",
    "amenities_count_df.dropna(inplace=True)\n",
    "amenities_count_df.sort_values('num_amenities',ascending=False).head(10)\n",
    "## Seems like Internet, Heating & kitchen are the most important requirement & hence all host provide thatb"
   ]
  },
  {
   "cell_type": "code",
   "execution_count": 49,
   "metadata": {
    "collapsed": true
   },
   "outputs": [],
   "source": [
    "wifi_flag=lambda x:(\"Wireless Internet\" in x)\n",
    "heating_flag=lambda x:(\"Heating\" in x)\n",
    "kitchen_flag=lambda x:(\"Kitchen\" in x)\n",
    "smoke_flag=lambda x:(\"Smoke Detector\" in x)\n",
    "essentials_flag=lambda x:(\"Essentials\" in x)\n",
    "dryer_flag=lambda x:(\"Dryer\" in x)\n",
    "\n",
    "listing['wifi_flag']=listing['amenities'].apply(wifi_flag)\n",
    "listing['heating_flag']=listing['amenities'].apply(heating_flag)\n",
    "listing['kitchen_flag']=listing['amenities'].apply(kitchen_flag)\n",
    "listing['smoke_flag']=listing['amenities'].apply(smoke_flag)\n",
    "listing['essentials_flag']=listing['amenities'].apply(essentials_flag)\n",
    "listing['dryer_flag']=listing['amenities'].apply(dryer_flag)"
   ]
  },
  {
   "cell_type": "code",
   "execution_count": 54,
   "metadata": {},
   "outputs": [
    {
     "name": "stdout",
     "output_type": "stream",
     "text": [
      "0.9604504976427449\n",
      "0.9499738082765846\n",
      "0.8965426925091671\n",
      "0.859350445259298\n",
      "0.8478260869565217\n",
      "0.8156102671555788\n"
     ]
    }
   ],
   "source": [
    "print(listing['wifi_flag'].sum()/len(listing))\n",
    "print(listing['heating_flag'].sum()/len(listing))\n",
    "print(listing['kitchen_flag'].sum()/len(listing))\n",
    "print(listing['smoke_flag'].sum()/len(listing))\n",
    "print(listing['essentials_flag'].sum()/len(listing))\n",
    "print(listing['dryer_flag'].sum()/len(listing))"
   ]
  },
  {
   "cell_type": "markdown",
   "metadata": {},
   "source": [
    "#### getting the tenure proxy of the host"
   ]
  },
  {
   "cell_type": "code",
   "execution_count": 188,
   "metadata": {
    "collapsed": true
   },
   "outputs": [],
   "source": [
    "listing['first_review'] = pd.to_datetime(listing['first_review'])\n",
    "listing['last_review'] = pd.to_datetime(listing['last_review'])\n",
    "listing['Tenure'] = (listing['last_review'] - listing['first_review']).dt.days"
   ]
  },
  {
   "attachments": {},
   "cell_type": "markdown",
   "metadata": {},
   "source": [
    "#### responsiveness of host "
   ]
  },
  {
   "cell_type": "code",
   "execution_count": 224,
   "metadata": {},
   "outputs": [],
   "source": [
    "listing['host_response_rate'] = listing['host_response_rate'].str.replace('%','')\n",
    "listing['host_response_rate'] = listing['host_response_rate'].str.replace(',','')"
   ]
  },
  {
   "cell_type": "markdown",
   "metadata": {},
   "source": [
    "#### encoding cancellation policy"
   ]
  },
  {
   "cell_type": "code",
   "execution_count": 256,
   "metadata": {
    "collapsed": true
   },
   "outputs": [],
   "source": [
    "listing['cancellation_policy'] = listing['cancellation_policy'].map({1:'flexible', 2:'moderate',3:'strict'}) "
   ]
  },
  {
   "cell_type": "code",
   "execution_count": 257,
   "metadata": {
    "collapsed": true
   },
   "outputs": [],
   "source": [
    "df = listing.merge(reviews[['id',\n",
    "       'walking_distance', 'is_recommend', 'is_clean', 'near_coffee',\n",
    "       'transportation', 'convenient_location']],left_on='id',right_on='id',how = 'left')"
   ]
  },
  {
   "cell_type": "code",
   "execution_count": 258,
   "metadata": {
    "collapsed": true
   },
   "outputs": [],
   "source": [
    "df['neighbourhood'].fillna('Others',inplace = True)"
   ]
  },
  {
   "cell_type": "markdown",
   "metadata": {},
   "source": [
    "### Adding external data"
   ]
  },
  {
   "cell_type": "code",
   "execution_count": 259,
   "metadata": {
    "collapsed": true
   },
   "outputs": [],
   "source": [
    "community = pd.read_csv('Seattle_Culture.csv') ## obtained from the Open Seattle Data program"
   ]
  },
  {
   "cell_type": "code",
   "execution_count": 260,
   "metadata": {},
   "outputs": [
    {
     "data": {
      "text/plain": [
       "Index(['Neighborhood', 'Stability Index (5=very stable, 1=very uncertain)',\n",
       "       'Stages and Theaters', 'Stage & Theater Seats ', 'Gallery Space'],\n",
       "      dtype='object')"
      ]
     },
     "execution_count": 260,
     "metadata": {},
     "output_type": "execute_result"
    }
   ],
   "source": [
    "community.columns"
   ]
  },
  {
   "cell_type": "markdown",
   "metadata": {},
   "source": [
    "#### Hypothesis is that areas with better entertainment & amenities will be preferred more"
   ]
  },
  {
   "cell_type": "code",
   "execution_count": 261,
   "metadata": {
    "collapsed": true
   },
   "outputs": [],
   "source": [
    "df_c = df.merge(community,left_on='neighbourhood',right_on='Neighborhood',how = 'left')"
   ]
  },
  {
   "cell_type": "code",
   "execution_count": 286,
   "metadata": {
    "collapsed": true
   },
   "outputs": [],
   "source": [
    "numeric_features = ['host_total_listings_count', 'accommodates','bathrooms', 'bedrooms', 'beds', 'square_feet', 'guests_included', \n",
    "                    'minimum_nights','review_scores_rating','Tenure','host_response_rate',\n",
    "                    'number_of_reviews','reviews_per_month',\n",
    "                     'host_is_superhost','price']"
   ]
  },
  {
   "cell_type": "markdown",
   "metadata": {},
   "source": [
    "#### excluding featues like cleaning fee & extra people as it may be a direct function of price"
   ]
  },
  {
   "cell_type": "code",
   "execution_count": 287,
   "metadata": {},
   "outputs": [],
   "source": [
    "for categorical_feature in ['neighbourhood_cleansed', 'property_type', 'room_type', 'bed_type']:\n",
    "    df_f = pd.concat([df_c[numeric_features], pd.get_dummies(listing[categorical_feature])], axis=1)"
   ]
  },
  {
   "cell_type": "markdown",
   "metadata": {},
   "source": [
    "### Converting $ to numeric"
   ]
  },
  {
   "cell_type": "code",
   "execution_count": 288,
   "metadata": {},
   "outputs": [],
   "source": [
    "df_f['price'] = df_f['price'].str.replace('$','')\n",
    "df_f['price'] = df_f['price'].str.replace(',','')\n",
    "df_f['price'] = df_f['price'].apply(np.float)"
   ]
  },
  {
   "cell_type": "code",
   "execution_count": 289,
   "metadata": {
    "collapsed": true
   },
   "outputs": [],
   "source": [
    "df_f.fillna(0,inplace=True)"
   ]
  },
  {
   "cell_type": "code",
   "execution_count": 290,
   "metadata": {},
   "outputs": [],
   "source": [
    "df_f.loc[df_f.loc[:, 'host_is_superhost'] == 't', 'host_is_superhost'] = 1\n",
    "df_f.loc[df_f.loc[:, 'host_is_superhost'] == 'f', 'host_is_superhost'] = 0"
   ]
  },
  {
   "cell_type": "code",
   "execution_count": 291,
   "metadata": {
    "collapsed": true
   },
   "outputs": [],
   "source": [
    "from sklearn.ensemble import RandomForestRegressor\n",
    "from sklearn.metrics import r2_score, mean_squared_error"
   ]
  },
  {
   "cell_type": "code",
   "execution_count": 292,
   "metadata": {},
   "outputs": [],
   "source": [
    "y = df_f.price\n",
    "X = df_f.drop(['price'], axis=1)"
   ]
  },
  {
   "cell_type": "code",
   "execution_count": 293,
   "metadata": {
    "collapsed": true
   },
   "outputs": [],
   "source": [
    "from sklearn.model_selection import train_test_split\n",
    "train_X, test_X, train_y, test_y = train_test_split(X, y, test_size=0.20, random_state=42)"
   ]
  },
  {
   "cell_type": "code",
   "execution_count": 294,
   "metadata": {},
   "outputs": [
    {
     "name": "stderr",
     "output_type": "stream",
     "text": [
      "[Parallel(n_jobs=-1)]: Using backend ThreadingBackend with 4 concurrent workers.\n",
      "[Parallel(n_jobs=-1)]: Done  42 tasks      | elapsed:    0.5s\n",
      "[Parallel(n_jobs=-1)]: Done 100 out of 100 | elapsed:    1.0s finished\n"
     ]
    },
    {
     "data": {
      "text/plain": [
       "RandomForestRegressor(bootstrap=True, criterion='mse', max_depth=None,\n",
       "           max_features='auto', max_leaf_nodes=None,\n",
       "           min_impurity_decrease=0.0, min_impurity_split=None,\n",
       "           min_samples_leaf=1, min_samples_split=2,\n",
       "           min_weight_fraction_leaf=0.0, n_estimators=100, n_jobs=-1,\n",
       "           oob_score=False, random_state=None, verbose=True,\n",
       "           warm_start=False)"
      ]
     },
     "execution_count": 294,
     "metadata": {},
     "output_type": "execute_result"
    }
   ],
   "source": [
    "model = RandomForestRegressor(n_estimators=100, n_jobs=-1,verbose = True)\n",
    "## Building simple model , further parameter tuning can also be done based on cross validation\n",
    "## Depth of the tree & number of trees can tuned to control overfitting\n",
    "model.fit(train_X, train_y)"
   ]
  },
  {
   "cell_type": "code",
   "execution_count": 295,
   "metadata": {
    "scrolled": false
   },
   "outputs": [
    {
     "name": "stderr",
     "output_type": "stream",
     "text": [
      "[Parallel(n_jobs=4)]: Using backend ThreadingBackend with 4 concurrent workers.\n",
      "[Parallel(n_jobs=4)]: Done  42 tasks      | elapsed:    0.0s\n",
      "[Parallel(n_jobs=4)]: Done 100 out of 100 | elapsed:    0.0s finished\n",
      "[Parallel(n_jobs=4)]: Using backend ThreadingBackend with 4 concurrent workers.\n",
      "[Parallel(n_jobs=4)]: Done  42 tasks      | elapsed:    0.0s\n",
      "[Parallel(n_jobs=4)]: Done 100 out of 100 | elapsed:    0.1s finished\n",
      "[Parallel(n_jobs=4)]: Using backend ThreadingBackend with 4 concurrent workers.\n",
      "[Parallel(n_jobs=4)]: Done  42 tasks      | elapsed:    0.0s\n",
      "[Parallel(n_jobs=4)]: Done 100 out of 100 | elapsed:    0.0s finished\n"
     ]
    }
   ],
   "source": [
    "model.score(test_X, test_y)\n",
    "y_train_pred = model.predict(train_X)\n",
    "y_test_pred = model.predict(test_X)"
   ]
  },
  {
   "cell_type": "code",
   "execution_count": 296,
   "metadata": {},
   "outputs": [
    {
     "name": "stdout",
     "output_type": "stream",
     "text": [
      "MSE train: 166.627, test: 1032.713\n",
      "R^2 train: 0.981, test: 0.891\n"
     ]
    }
   ],
   "source": [
    "print('MSE train: %.3f, test: %.3f' % (\n",
    "        mean_squared_error(train_y, y_train_pred),\n",
    "        mean_squared_error(test_y, y_test_pred)))\n",
    "print('R^2 train: %.3f, test: %.3f' % (\n",
    "        r2_score(train_y, y_train_pred),\n",
    "        r2_score(test_y, y_test_pred)))"
   ]
  },
  {
   "cell_type": "code",
   "execution_count": 300,
   "metadata": {},
   "outputs": [
    {
     "data": {
      "text/plain": [
       "bedrooms                     0.357574\n",
       "accommodates                 0.154479\n",
       "reviews_per_month            0.092623\n",
       "bathrooms                    0.062856\n",
       "host_total_listings_count    0.051408\n",
       "number_of_reviews            0.049960\n",
       "review_scores_rating         0.049511\n",
       "Tenure                       0.048996\n",
       "minimum_nights               0.034919\n",
       "host_response_rate           0.027586\n",
       "guests_included              0.024262\n",
       "beds                         0.017535\n",
       "Real Bed                     0.015195\n",
       "host_is_superhost            0.005846\n",
       "Pull-out Sofa                0.003441\n",
       "square_feet                  0.001893\n",
       "Airbed                       0.001450\n",
       "Futon                        0.000316\n",
       "Couch                        0.000149\n",
       "dtype: float64"
      ]
     },
     "execution_count": 300,
     "metadata": {},
     "output_type": "execute_result"
    }
   ],
   "source": [
    "feat_importances.sort_values(ascending=False)"
   ]
  },
  {
   "cell_type": "code",
   "execution_count": 298,
   "metadata": {
    "scrolled": false
   },
   "outputs": [
    {
     "data": {
      "text/plain": [
       "<matplotlib.axes._subplots.AxesSubplot at 0x7fcf460ee080>"
      ]
     },
     "execution_count": 298,
     "metadata": {},
     "output_type": "execute_result"
    },
    {
     "data": {
      "image/png": "[encoded data removed]",
      "text/plain": [
       "<Figure size 1440x720 with 1 Axes>"
      ]
     },
     "metadata": {},
     "output_type": "display_data"
    }
   ],
   "source": [
    "feat_importances = pd.Series(model.feature_importances_, index=train_X.columns)\n",
    "plt.figure(figsize=(20,10))\n",
    "feat_importances.sort_values(ascending=True).plot(kind='barh')"
   ]
  },
  {
   "cell_type": "markdown",
   "metadata": {},
   "source": [
    "#### The main features that define the price are bedrooms,accomodation ,reviews per month,bathrooms,rating. Note that the number of reviews and reviews per month are direct function of their historical sales data"
   ]
  },
  {
   "cell_type": "markdown",
   "metadata": {},
   "source": [
    "#### The main features that define the price are bedrooms,accomodation ,reviews per month,bathrooms,rating"
   ]
  },
  {
   "cell_type": "code",
   "execution_count": 14,
   "metadata": {
    "collapsed": true
   },
   "outputs": [],
   "source": [
    "listing['host_is_superhost'] = listing['host_is_superhost'].map({'f':0,'t':1})"
   ]
  },
  {
   "cell_type": "code",
   "execution_count": 47,
   "metadata": {
    "collapsed": true
   },
   "outputs": [],
   "source": [
    "rv_df = listing[['id','host_is_superhost','number_of_reviews','review_scores_rating']]"
   ]
  }
 ],
 "metadata": {
  "kernelspec": {
   "display_name": "Python 3",
   "language": "python",
   "name": "python3"
  },
  "language_info": {
   "codemirror_mode": {
    "name": "ipython",
    "version": 3
   },
   "file_extension": ".py",
   "mimetype": "text/x-python",
   "name": "python",
   "nbconvert_exporter": "python",
   "pygments_lexer": "ipython3",
   "version": "3.6.2"
  }
 },
 "nbformat": 4,
 "nbformat_minor": 2
}
